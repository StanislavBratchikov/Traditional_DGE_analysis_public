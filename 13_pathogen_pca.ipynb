{
 "cells": [
  {
   "cell_type": "code",
   "execution_count": 1,
   "id": "95fbd985-cb92-4548-932b-e9442fe5b853",
   "metadata": {},
   "outputs": [],
   "source": [
    "import sys\n",
    "sys.path.insert(0, '../lib')"
   ]
  },
  {
   "cell_type": "code",
   "execution_count": 2,
   "id": "888198ac-d23a-4a84-b4ba-e56722122124",
   "metadata": {},
   "outputs": [
    {
     "name": "stderr",
     "output_type": "stream",
     "text": [
      "/projects/b1196/envs/serniczek/lib/python3.10/site-packages/tqdm/auto.py:21: TqdmWarning: IProgress not found. Please update jupyter and ipywidgets. See https://ipywidgets.readthedocs.io/en/stable/user_install.html\n",
      "  from .autonotebook import tqdm as notebook_tqdm\n"
     ]
    }
   ],
   "source": [
    "import collections\n",
    "import itertools\n",
    "import functools\n",
    "import os\n",
    "import pathlib\n",
    "import shutil\n",
    "\n",
    "import numpy as np\n",
    "import pandas as pd\n",
    "import scanpy as sc\n",
    "import matplotlib as mpl\n",
    "import matplotlib.pyplot as plt\n",
    "import seaborn as sns\n",
    "import sklearn.decomposition\n",
    "import plotly.express as px\n",
    "import scipy\n",
    "import statsmodels.stats.multitest\n",
    "\n",
    "import common_data\n",
    "import factor_interpretation as fi"
   ]
  },
  {
   "cell_type": "code",
   "execution_count": 3,
   "id": "fb64c554-15f2-4564-b2c2-e7ab0b96a0b9",
   "metadata": {},
   "outputs": [],
   "source": [
    "%load_ext autoreload\n",
    "%autoreload 2"
   ]
  },
  {
   "cell_type": "code",
   "execution_count": 4,
   "id": "d5039cdb-ab86-4879-b652-b3ae9be712bc",
   "metadata": {},
   "outputs": [],
   "source": [
    "pd.options.display.max_columns = 200\n",
    "pd.options.display.max_rows = 200\n",
    "%config InlineBackend.figure_format = \"retina\"\n",
    "# mpl.rcParams['figure.constrained_layout.use'] = True"
   ]
  },
  {
   "cell_type": "code",
   "execution_count": 5,
   "id": "f3f24cc5-c372-47b2-a203-098d307cef99",
   "metadata": {},
   "outputs": [
    {
     "data": {
      "text/html": [
       "\n",
       "<style>\n",
       ".lm-Widget {overflow-x: scroll !important;}\n",
       "</style>\n"
      ],
      "text/plain": [
       "<IPython.core.display.HTML object>"
      ]
     },
     "metadata": {},
     "output_type": "display_data"
    }
   ],
   "source": [
    "from IPython.display import display, HTML\n",
    "display(HTML(\"\"\"\n",
    "<style>\n",
    ".lm-Widget {overflow-x: scroll !important;}\n",
    "</style>\n",
    "\"\"\"))"
   ]
  },
  {
   "cell_type": "markdown",
   "id": "eb0aa0e4-3970-4eee-82bd-7ddd99db1723",
   "metadata": {},
   "source": [
    "# Pathogen pseudobulk principal component analysis\n",
    "\n",
    "## Methods:\n",
    "To find differentially-expressed genes between pathogen groups (7) and control groups (2), we use pseudobulk approach with certain modification, detailed below. Pseudobulk approach shows better agreement with bulk approach during benchmarking (Squair et al., Nat Commun, 2021) compared to tests that do not account for cells’ belonging to different samples, and does not suffer from inflated p-values.\n",
    "\n",
    "First, we prepared pseudobulk samples from our single-cell data. For each annotated cell type $T$, we excluded samples that didn’t have 50 cells (determined in [this notebook](https://github.com/NUPulmonary/serniczek/blob/main/05_pseudobulk/01_pseudobulk_number.ipynb)). Each sample belongs to strictly one pathogen or control group $G$. Next, we excluded genes that are not consistently expressed in the data from differential gene expression analysis: if a gene was detected (count > 0) in less than 80% of pseudobulk samples after filtering from sample group $G$, we excluded that gene. We also excluded \n",
    "* mitochondrial genes\n",
    "* ribosomal genes\n",
    "* genes with certain name patterns (see [here](https://www.biostars.org/p/9553891/))\n",
    "\n",
    "For full gene exclusion code see: [\\[1\\]](https://github.com/NUPulmonary/serniczek/blob/main/02b_integration/10_raw-object.ipynb), [\\[2\\]](https://github.com/NUPulmonary/serniczek/blob/main/04b_geneformer/05a_gene_filtering_pseudobulk.ipynb).\n",
    "\n",
    "Then we summed up raw gene counts for all cells in that sample that belong to the annotated cell type $T$ (see [here](https://github.com/NUPulmonary/serniczek/blob/main/05_pseudobulk/10_pathogen_pseudobulk.ipynb)).\n",
    "Next, we constructed DESeq2 object will all pathogen and control groups (9 total) together with model expression `~ group + sex` and fitType set to `'local'`. Here we excluded samples that do not have clearly defined pathogen group. Then we applied DESeq2 [variance-stabilizing transformation](https://bioconductor.org/packages/devel/bioc/vignettes/DESeq2/inst/doc/DESeq2.html#count-data-transformations) with `blind=FALSE` to obtain normalized pseudobulk counts. Code is in [this notebook](https://github.com/NUPulmonary/serniczek/blob/main/05_pseudobulk/11_pathogen_deseq2.R).\n",
    "\n",
    "In this notebook we proceed with Principal Component analysis of these DESeq2 normalized counts individually per cell type.\n",
    "\n",
    "For each cell type we selected top 2000 genes based on their variance across all pseudobulk samples with existing pathogen group label. Then we applied PCA to the resulting normalized count matrix, and plotted explained variance by principle component, and PC1 vs PC2 plots, and saved gene loadings for top 10 PCs. To test association of the first 10 PCs with any of the sample covariates, we ran statistical tests separately for categorical and numerical covariates. For categorical covariates we first filled in some missing values for healthy control samples (full list [here](https://github.com/NUPulmonary/serniczek/blob/main/lib/common_data.py#L33)), then excluded remaining missing values and assessed the number of categories left. For 2 categories we ran t-test, for more than 2 categories we ran ANOVA on PC values for samples from different groups, and obtained corresponding p-values. For numerical covariates, we excluded missing values and ran Pearson correlation, and obtained corresponding p-values and correlation coefficients. Next we ran FDR correction for all tests (10 PCs × number of categorical/numerical covariates) in categorical or numerical group independently. FDR q-values below 0.05 were annotated as significant. For numerical covariates we plot correlation coefficient and mark significant tests with a star. For categorical covariates we plot $-log_{10}($q-value$)$. Rows and columns of the heatmap are hierarchically clustered based on euclidean distance using Ward linkage method.\n",
    "\n",
    "## Goals:\n",
    "\n",
    "1. For each cell type\n",
    "   1. Select top $N$ variable features (per DESeq2, maybe not needed)\n",
    "   2. Run PCA\n",
    "   3. Save & plot elbow plot\n",
    "   4. Save loadings\n",
    "   5. Plot interactive PC with plotly\n",
    "   6. Correlate to $P$ PCs with numerical features + run ANOVA for pathogen categories\n",
    "   7. Run ANOVA for multiple levels of pathogens"
   ]
  },
  {
   "cell_type": "code",
   "execution_count": 6,
   "id": "9137572f-b6cf-45ae-a551-ce09a872ea3e",
   "metadata": {},
   "outputs": [],
   "source": [
    "ROOT = pathlib.Path('/projects/b1196/ewa_group/serniczek/data')\n",
    "BASE = ROOT / '05_pseudobulk/10_pathogen'"
   ]
  },
  {
   "cell_type": "code",
   "execution_count": 7,
   "id": "d3643e6d-c871-4a7b-8286-90f064d918c1",
   "metadata": {},
   "outputs": [],
   "source": [
    "TOP_N_GENES = 2000\n",
    "TOP_N_PCS = 10"
   ]
  },
  {
   "cell_type": "code",
   "execution_count": 8,
   "id": "33c7dbb3-1851-4323-9edd-5b611b60dd52",
   "metadata": {},
   "outputs": [],
   "source": [
    "# ['SARS-CoV-2; Gram+', 'Pseudomonas aeruginosa; SARS-CoV-2',\n",
    "# 'SARS-CoV-2', 'Gram+', 'NPC', 'Gram-*', 'Healthy', 'Gram-*; Gram+',\n",
    "# 'Pseudomonas aeruginosa'\n",
    "PALETTE = {\n",
    "    'Healthy': \"#5cd061\", # green\n",
    "    'NPC': \"#256b33\", # dark green\n",
    "    'SARS-CoV-2' : \"#e51d23\", # red\n",
    "    'SARS-CoV-2; Gram+' : \"#ffc326\", # gold\n",
    "    # 'discard': \"#cfcfcf\", # grey\n",
    "    'Pseudomonas aeruginosa; SARS-CoV-2': \"#9858d6\", # purple\n",
    "    'Pseudomonas; SARS-CoV-2': \"#9858d6\", # purple\n",
    "    'Gram+': \"#013265\", # blue\n",
    "    'Pseudomonas aeruginosa': \"#fb4e93\", # pink\n",
    "    'Pseudomonas': \"#fb4e93\", # pink\n",
    "    'Gram-*; Gram+': \"#1ceaf9\", # cyan\n",
    "    'Gram-*': \"#770c2e\" # dark red\n",
    "}\n",
    "ORDER = [\n",
    "    'Healthy', 'NPC', 'SARS-CoV-2', 'Gram+', 'Gram-*', 'Pseudomonas', \n",
    "    'SARS-CoV-2; Gram+', 'Pseudomonas; SARS-CoV-2', 'Gram-*; Gram+'\n",
    "]"
   ]
  },
  {
   "cell_type": "code",
   "execution_count": 9,
   "id": "6e5bb177-ea07-42ff-8540-ac636cc72cfb",
   "metadata": {},
   "outputs": [
    {
     "name": "stderr",
     "output_type": "stream",
     "text": [
      "/tmp/ipykernel_50933/4000152471.py:1: DtypeWarning: Columns (27,28,32,33,36,37,46,50,52,54,55,56,63) have mixed types. Specify dtype option on import or set low_memory=False.\n",
      "  sc_meta = pd.read_csv(\n"
     ]
    }
   ],
   "source": [
    "sc_meta = pd.read_csv(\n",
    "    ROOT / '02b_integration/09_final_full-1/09_final_full-1-metadata.csv',\n",
    "    index_col=0\n",
    ")"
   ]
  },
  {
   "cell_type": "code",
   "execution_count": 10,
   "id": "926f6ce0-0a81-4bac-93ec-6a6213bc7984",
   "metadata": {},
   "outputs": [],
   "source": [
    "pseudobulk_n_cells = sc_meta.groupby(['individual', 'Level_6']).size().reset_index(name='n_cells')"
   ]
  },
  {
   "cell_type": "code",
   "execution_count": 11,
   "id": "fabdd290-6746-461e-805c-ec9a13f7647f",
   "metadata": {},
   "outputs": [],
   "source": [
    "pseudobulk_n_cells = pseudobulk_n_cells.loc[pseudobulk_n_cells.n_cells.ge(50)].copy()"
   ]
  },
  {
   "cell_type": "code",
   "execution_count": 12,
   "id": "1cb16ded-3377-488f-884e-cfbef6d93963",
   "metadata": {},
   "outputs": [],
   "source": [
    "sample_to_group = sc_meta.groupby('individual').head(1).set_index('individual').perturbation_groups"
   ]
  },
  {
   "cell_type": "code",
   "execution_count": 13,
   "id": "aaf08240-d768-4c54-84b0-a234dfac59d5",
   "metadata": {},
   "outputs": [],
   "source": [
    "pseudobulk_n_cells['group'] = sample_to_group[pseudobulk_n_cells.individual].values"
   ]
  },
  {
   "cell_type": "code",
   "execution_count": 14,
   "id": "b7434757-a958-4230-ab6c-c8ced66c32bf",
   "metadata": {},
   "outputs": [],
   "source": [
    "pseudobulk_n_cells = pseudobulk_n_cells.loc[pseudobulk_n_cells.group.ne('discard')].copy()"
   ]
  },
  {
   "cell_type": "code",
   "execution_count": 15,
   "id": "d7788475-f4ee-4c01-b142-103ce5f37216",
   "metadata": {},
   "outputs": [],
   "source": [
    "pseudobulk_n_cells.rename(columns={'individual': 'sample', 'Level_6': 'cell_type'}, inplace=True)"
   ]
  },
  {
   "cell_type": "code",
   "execution_count": 16,
   "id": "91c82cbe-418d-46b5-91cb-920749731292",
   "metadata": {},
   "outputs": [],
   "source": [
    "sample_meta = sc_meta.groupby('individual').head(1)[\n",
    "    ['days_on_ventilator', 'sequencing_depth', 'sequencing_saturation',\n",
    "    'frac_reads_in_cells', 'viability', 'individual']\n",
    "].set_index('individual')"
   ]
  },
  {
   "cell_type": "code",
   "execution_count": 17,
   "id": "1a40e4af-4d0d-4a9d-9a79-64bd755b2323",
   "metadata": {},
   "outputs": [],
   "source": [
    "categorical_covariates = common_data.get_sc_categorical_covariates()"
   ]
  },
  {
   "cell_type": "code",
   "execution_count": 18,
   "id": "60dd52d2-14cb-490e-a2d0-b355b184b490",
   "metadata": {},
   "outputs": [],
   "source": [
    "numerical_covariates = common_data.get_sc_numerical_covariates()"
   ]
  },
  {
   "cell_type": "code",
   "execution_count": 19,
   "id": "d85b73eb-3fb0-4e38-bc6f-3ad70b8ee464",
   "metadata": {},
   "outputs": [],
   "source": [
    "class CellTypeInfo:\n",
    "    def __init__(self, path, pseudobulk_n_cells):\n",
    "        self.path = path\n",
    "        self.comparisons = []\n",
    "        self.meta = pd.read_csv(path / 'data/meta.csv', index_col=0)\n",
    "        self.name = self.meta.cell_type.values[0]\n",
    "\n",
    "        pseudobulk_info = pseudobulk_n_cells.loc[pseudobulk_n_cells.cell_type.eq(self.name)]\n",
    "        self.load_comparisons(pseudobulk_info)\n",
    "\n",
    "        self.vst = pd.read_table(path / '_deseq2/transformed.tsv', delim_whitespace=True).T\n",
    "        self.run_pca()\n",
    "\n",
    "    def load_comparisons(self, pseudobulk_info):\n",
    "        for run in self.path.glob('**/_deseq2.csv'):\n",
    "            info = pd.read_csv(run).iloc[0]\n",
    "            self.comparisons.append(run.parent / 'degs.csv')\n",
    "\n",
    "    def select_top_genes(self):\n",
    "        top_genes = self.vst.var(axis=0).sort_values().index[-TOP_N_GENES:]\n",
    "        return self.vst.loc[:, top_genes].copy()\n",
    "\n",
    "    def run_pca(self):\n",
    "        self.top_vst = self.select_top_genes()\n",
    "        self.pca = sklearn.decomposition.PCA()\n",
    "        self.pcs = self.pca.fit_transform(self.top_vst)\n",
    "\n",
    "    def plot_pca_elbow(self):\n",
    "        to_plot = min(50, self.pca.n_components_)\n",
    "        fig, ax = plt.subplots(figsize=(6, 3), constrained_layout=True)\n",
    "        ax.bar(range(to_plot), self.pca.explained_variance_ratio_[:to_plot] * 100)\n",
    "        ax.set_xlabel('PC', size=14)\n",
    "        ax.set_ylabel('% variance explained\\n(top 2000 genes)', size=14)\n",
    "        ax.set_title(self.name, size=16)\n",
    "        return fig\n",
    "\n",
    "    def get_pc_weights(self):\n",
    "        return pd.DataFrame(\n",
    "            self.pca.components_[:TOP_N_PCS].T, \n",
    "            index=self.top_vst.columns,\n",
    "            columns='PC' + (pd.Series(range(TOP_N_PCS)) + 1).astype(str)\n",
    "        ).sort_values('PC1')\n",
    "\n",
    "    def get_pc_df(self, additional_meta):\n",
    "        pc_df = self.meta.copy()\n",
    "        pc_df.loc[:, 'PC' + (pd.Series(range(TOP_N_PCS)) + 1).astype(str)] = self.pcs[:, :TOP_N_PCS]\n",
    "        pc_df.group = pc_df.group.str.replace('Pseudomonas aeruginosa', 'Pseudomonas')\n",
    "        pc_df.loc[:, additional_meta.columns] = additional_meta.loc[pc_df['sample'].values].values\n",
    "        pc_df['size'] = pc_df.days_on_ventilator.copy()\n",
    "        pc_df.loc[pc_df['size'].lt(0), 'size'] = 0\n",
    "        pc_df['size'] = (pc_df['size'] + 0.5) ** 0.5\n",
    "        return pc_df\n",
    "\n",
    "    @property\n",
    "    def n_comparisons(self):\n",
    "        return len(self.comparisons)"
   ]
  },
  {
   "cell_type": "code",
   "execution_count": 20,
   "id": "8af80df6-1d3e-46a8-91e5-0eb6a640fd06",
   "metadata": {},
   "outputs": [
    {
     "name": "stdout",
     "output_type": "stream",
     "text": [
      "CPU times: user 2min 4s, sys: 1min 48s, total: 3min 53s\n",
      "Wall time: 13.4 s\n"
     ]
    }
   ],
   "source": [
    "%%time\n",
    "data = []\n",
    "for cell_type_path in sorted(BASE.iterdir()):\n",
    "    if not (cell_type_path / '_deseq2/transformed.tsv').exists():\n",
    "        continue\n",
    "    info = CellTypeInfo(cell_type_path, pseudobulk_n_cells)\n",
    "    if info.n_comparisons > 0:\n",
    "        data.append(info)"
   ]
  },
  {
   "cell_type": "code",
   "execution_count": 21,
   "id": "caab5bf2-eb1e-4348-9a3f-61c25ff3fdb1",
   "metadata": {},
   "outputs": [
    {
     "data": {
      "text/plain": [
       "[162, 173, 48, 56, 153, 105, 184, 184, 10, 166, 22, 75, 53, 69, 71, 106]"
      ]
     },
     "execution_count": 21,
     "metadata": {},
     "output_type": "execute_result"
    }
   ],
   "source": [
    "[i.pca.n_components_ for i in data]"
   ]
  },
  {
   "cell_type": "code",
   "execution_count": 22,
   "id": "381d39fe-f434-46e8-a8f2-1def6cf35450",
   "metadata": {},
   "outputs": [],
   "source": [
    "def plot_pc(cell_type, pc_df):\n",
    "    return px.scatter(\n",
    "        pc_df, \n",
    "        x='PC1', \n",
    "        y='PC2', \n",
    "        color='group',\n",
    "        size='size', \n",
    "        hover_data=dict(\n",
    "            sample=True, \n",
    "            days_on_ventilator=True,\n",
    "            size=False,\n",
    "            sex=True\n",
    "        ),\n",
    "        color_discrete_map=PALETTE,\n",
    "        labels=dict(\n",
    "            PC1=f'PC1 {cell_type.pca.explained_variance_ratio_[0] * 100:.1f}%',\n",
    "            PC2=f'PC2 {cell_type.pca.explained_variance_ratio_[1] * 100:.1f}%',\n",
    "        ),\n",
    "        category_orders=dict(\n",
    "            group=ORDER\n",
    "        ),\n",
    "        title=cell_type.name\n",
    "    )"
   ]
  },
  {
   "cell_type": "code",
   "execution_count": 23,
   "id": "85da5984-9748-4273-af2a-a81e5f90f792",
   "metadata": {},
   "outputs": [],
   "source": [
    "def plot_pc_cat_assoc(pc_corrs):\n",
    "    pc_corrs = pc_corrs.copy()\n",
    "    pc_corrs[pc_corrs == 0] = 10**-15\n",
    "    pc_annot = pd.DataFrame(index=pc_corrs.index, columns=pc_corrs.columns)\n",
    "    pc_annot[-np.log10(pc_corrs) > -np.log10(0.05)] = '*'\n",
    "    pc_annot[pc_annot != '*'] = ''\n",
    "    cg = sns.clustermap(\n",
    "        -np.log10(pc_corrs).T,\n",
    "        method='ward',\n",
    "        cmap='Blues',\n",
    "        annot=pc_annot.T,\n",
    "        fmt='s',\n",
    "        cbar_kws=dict(\n",
    "            label='$-log10($p-value$)$'\n",
    "        ),\n",
    "        dendrogram_ratio=0.1\n",
    "    )\n",
    "    cg.ax_col_dendrogram.set_title(cell_type.name, size=16)\n",
    "    cg.fig.subplots_adjust(top=0.95)\n",
    "    cg.ax_cbar.set_position((0.02, 0.85, 0.02, 0.1))\n",
    "    return cg"
   ]
  },
  {
   "cell_type": "code",
   "execution_count": 24,
   "id": "8410e72e-4332-431c-9df0-17c768c3375c",
   "metadata": {},
   "outputs": [],
   "source": [
    "def plot_pc_corrs(pc_corrs, pc_corr_pvals):\n",
    "    pc_annot = pd.DataFrame(index=pc_corr_pvals.index, columns=pc_corr_pvals.columns)\n",
    "    pc_annot[-np.log10(pc_corr_pvals) > -np.log10(0.05)] = '*'\n",
    "    pc_annot[pc_annot != '*'] = ''\n",
    "    # print(pc_annot.to_numpy())\n",
    "    cg = sns.clustermap(\n",
    "        pc_corrs.T,\n",
    "        method='ward',\n",
    "        cmap='vlag',\n",
    "        annot=pc_annot.T,\n",
    "        fmt='s',\n",
    "        cbar_kws=dict(\n",
    "            label='Pearson $r$'\n",
    "        ),\n",
    "        dendrogram_ratio=0.1,\n",
    "        center=0,\n",
    "    )\n",
    "    cg.ax_col_dendrogram.set_title(cell_type.name, size=16)\n",
    "    cg.fig.subplots_adjust(top=0.95)\n",
    "    cg.ax_cbar.set_position((0.02, 0.85, 0.02, 0.1))\n",
    "    return cg"
   ]
  },
  {
   "cell_type": "code",
   "execution_count": 25,
   "id": "aa594688-c430-4d82-849d-f23e322542a4",
   "metadata": {},
   "outputs": [],
   "source": [
    "def plot_pc_cat_boxplot(name, pc_df, pc, cat, na_values):\n",
    "    if cat == 'perturbation_groups':\n",
    "        pc_df[cat] = pc_df[cat].cat.rename_categories({\n",
    "            'Pseudomonas aeruginosa': 'Pseudomonas',\n",
    "            'Pseudomonas aeruginosa; SARS-CoV-2': 'Pseudomonas; SARS-CoV-2'\n",
    "        })\n",
    "    \n",
    "    fig, ax = plt.subplots(figsize=(6, 6), constrained_layout=True)\n",
    "    stats_results = []\n",
    "    na_value = na_values.get(cat)\n",
    "    for d1, d2 in itertools.combinations(pc_df[cat].unique(), 2):\n",
    "        if na_value and na_value in (d1, d2):\n",
    "            continue\n",
    "        days1 = pc_df[pc][pc_df[cat].eq(d1)].dropna()\n",
    "        days2 = pc_df[pc][pc_df[cat].eq(d2)].dropna()\n",
    "        if days1.size == 0 or days2.size == 0:\n",
    "            continue\n",
    "        pval = scipy.stats.ttest_ind(days1, days2).pvalue\n",
    "        stats_results.append([d1, d2, days1.size, days2.size, pval])\n",
    "\n",
    "    stats_results = pd.DataFrame(\n",
    "        stats_results, \n",
    "        columns=[\"group1\", \"group2\", \"group1_size\", \"group2_size\", \"pval\"]\n",
    "    )\n",
    "    stats_results['padj'] = statsmodels.stats.multitest.fdrcorrection(stats_results.pval)[1]\n",
    "    stats_results['PC'] = pc\n",
    "    stats_results['covariate'] = cat\n",
    "    stats_results_sign = stats_results.loc[stats_results.padj.lt(0.05)]\n",
    "\n",
    "    sns.boxplot(data=pc_df, x=cat, y=pc, ax=ax, color='lightgray')\n",
    "    sns.swarmplot(data=pc_df, x=cat, y=pc, ax=ax, size=2, color='black')\n",
    "\n",
    "    start_height = pc_df[pc].max()\n",
    "    incrementer = 15 # px\n",
    "    labels = [x.get_text() for x in ax.get_xticklabels()]\n",
    "    q = ax.transData.inverted().transform([[0, 0], [0, incrementer]])\n",
    "    y_offset = q[1][1] - q[0][1]\n",
    "    gap = y_offset / 2\n",
    "    y = start_height\n",
    "    for _, r in stats_results_sign.iterrows():\n",
    "        p = f'{r.padj:.3f}'\n",
    "        \n",
    "        # statistical annotation\n",
    "        try:\n",
    "            x1, x2 = labels.index(str(r.group1)), labels.index(str(r.group2))\n",
    "        except:\n",
    "            if type(r.group1) == float:\n",
    "                group1 = int(r.group1)\n",
    "            if type(r.group1) == float:\n",
    "                group2 = int(r.group1)\n",
    "            x1, x2 = labels.index(str(group1)), labels.index(str(group2))\n",
    "        col = 'k'\n",
    "        h = gap\n",
    "        y += gap\n",
    "\n",
    "        bracket = ax.plot([x1, x1, x2, x2], [y, y+h, y+h, y], lw=0.5, c=col)\n",
    "        txt = ax.text((x1+x2)*.5, y+.95*h, p, ha='center', va='bottom', color=col, size=6)\n",
    "        y += y_offset\n",
    "    \n",
    "    ax.set_title(f'{cell_type.name}: {pc} vs {cat}', size=14)\n",
    "\n",
    "    max_l = max(*[len(val) for val in pc_df[cat].cat.categories])\n",
    "    if max_l > 15:\n",
    "        trans = mpl.transforms.Affine2D().translate(6, 0)\n",
    "        for t in ax.get_xticklabels():\n",
    "            t.set_rotation(30)\n",
    "            t.set_horizontalalignment(\"right\")\n",
    "            t.set_transform(t.get_transform() + trans)\n",
    "    \n",
    "    return fig, stats_results"
   ]
  },
  {
   "cell_type": "code",
   "execution_count": 31,
   "id": "b6dee462-3162-48a7-8ab6-db54e66262d2",
   "metadata": {},
   "outputs": [
    {
     "name": "stderr",
     "output_type": "stream",
     "text": [
      "/projects/b1196/envs/serniczek/lib/python3.10/site-packages/scipy/stats/_stats_py.py:7030: RuntimeWarning:\n",
      "\n",
      "invalid value encountered in double_scalars\n",
      "\n",
      "/projects/b1196/envs/serniczek/lib/python3.10/site-packages/scipy/stats/_stats_py.py:7030: RuntimeWarning:\n",
      "\n",
      "invalid value encountered in double_scalars\n",
      "\n",
      "/projects/b1196/envs/serniczek/lib/python3.10/site-packages/scipy/stats/_stats_py.py:7030: RuntimeWarning:\n",
      "\n",
      "invalid value encountered in double_scalars\n",
      "\n",
      "/projects/b1196/envs/serniczek/lib/python3.10/site-packages/scipy/stats/_stats_py.py:7030: RuntimeWarning:\n",
      "\n",
      "invalid value encountered in double_scalars\n",
      "\n",
      "/projects/b1196/envs/serniczek/lib/python3.10/site-packages/scipy/stats/_stats_py.py:7030: RuntimeWarning:\n",
      "\n",
      "invalid value encountered in double_scalars\n",
      "\n",
      "/projects/b1196/envs/serniczek/lib/python3.10/site-packages/scipy/stats/_stats_py.py:7030: RuntimeWarning:\n",
      "\n",
      "invalid value encountered in double_scalars\n",
      "\n",
      "/projects/b1196/envs/serniczek/lib/python3.10/site-packages/scipy/stats/_axis_nan_policy.py:523: RuntimeWarning:\n",
      "\n",
      "Precision loss occurred in moment calculation due to catastrophic cancellation. This occurs when the data are nearly identical. Results may be unreliable.\n",
      "\n",
      "/projects/b1196/envs/serniczek/lib/python3.10/site-packages/scipy/stats/_axis_nan_policy.py:523: RuntimeWarning:\n",
      "\n",
      "Precision loss occurred in moment calculation due to catastrophic cancellation. This occurs when the data are nearly identical. Results may be unreliable.\n",
      "\n",
      "/projects/b1196/envs/serniczek/lib/python3.10/site-packages/scipy/stats/_stats_py.py:4167: ConstantInputWarning:\n",
      "\n",
      "Each of the input arrays is constant;the F statistic is not defined or infinite\n",
      "\n",
      "/projects/b1196/envs/serniczek/lib/python3.10/site-packages/scipy/stats/_stats_py.py:4847: NearConstantInputWarning:\n",
      "\n",
      "An input array is nearly constant; the computed correlation coefficient may be inaccurate.\n",
      "\n",
      "/projects/b1196/envs/serniczek/lib/python3.10/site-packages/scipy/stats/_stats_py.py:4847: NearConstantInputWarning:\n",
      "\n",
      "An input array is nearly constant; the computed correlation coefficient may be inaccurate.\n",
      "\n",
      "/projects/b1196/envs/serniczek/lib/python3.10/site-packages/scipy/stats/_axis_nan_policy.py:523: RuntimeWarning:\n",
      "\n",
      "Precision loss occurred in moment calculation due to catastrophic cancellation. This occurs when the data are nearly identical. Results may be unreliable.\n",
      "\n",
      "/projects/b1196/envs/serniczek/lib/python3.10/site-packages/scipy/stats/_stats_py.py:7030: RuntimeWarning:\n",
      "\n",
      "invalid value encountered in double_scalars\n",
      "\n",
      "/projects/b1196/envs/serniczek/lib/python3.10/site-packages/scipy/stats/_stats_py.py:7030: RuntimeWarning:\n",
      "\n",
      "invalid value encountered in double_scalars\n",
      "\n"
     ]
    },
    {
     "name": "stdout",
     "output_type": "stream",
     "text": [
      "CPU times: user 4min 45s, sys: 2min 12s, total: 6min 58s\n",
      "Wall time: 2min 58s\n"
     ]
    }
   ],
   "source": [
    "%%time\n",
    "all_pairwise = []\n",
    "for cell_type in data:\n",
    "    fig = cell_type.plot_pca_elbow()\n",
    "    fig.savefig(cell_type.path / '_deseq2/pca_elbow.pdf')\n",
    "    plt.close()\n",
    "    weights = cell_type.get_pc_weights().round(5)\n",
    "    weights.to_csv(cell_type.path / '_deseq2/pc_loadings.csv')\n",
    "    pc_df = cell_type.get_pc_df(sample_meta)\n",
    "    fig = plot_pc(cell_type, pc_df)\n",
    "    fig.write_html(cell_type.path / '_deseq2/pc_plot.html')\n",
    "\n",
    "    pc_names = pc_df.columns[pc_df.columns.str.startswith('PC')]\n",
    "    pc_df = pc_df.set_index('sample').loc[:, pc_names]\n",
    "    na_values = {col: 'NA' for col in categorical_covariates.columns}\n",
    "    na_values.update(common_data.na_values)\n",
    "\n",
    "    cat_covs = categorical_covariates.loc[pc_df.index].copy()\n",
    "    for col in cat_covs.columns:\n",
    "        cat_covs[col] = cat_covs[col].cat.remove_unused_categories()\n",
    "    \n",
    "    pc_cat_assoc = fi.test_association(\n",
    "        pc_df,\n",
    "        cat_covs,\n",
    "        na_values\n",
    "    )\n",
    "    cg = plot_pc_cat_assoc(pc_cat_assoc)\n",
    "    cg.fig.savefig(cell_type.path / '_deseq2/pc_cat_assoc.pdf')\n",
    "    plt.close()\n",
    "\n",
    "    pc_corrs, pc_corr_pvals = fi.test_correlation(\n",
    "        pc_df,\n",
    "        numerical_covariates.loc[pc_df.index]\n",
    "    )\n",
    "    cg = plot_pc_corrs(pc_corrs, pc_corr_pvals)\n",
    "    cg.fig.savefig(cell_type.path / '_deseq2/pc_corrs.pdf')\n",
    "    plt.close()\n",
    "\n",
    "    pc_merge = pc_df.merge(cat_covs, left_index=True, right_index=True)\n",
    "    stat_results = []\n",
    "    for pc, cat in pc_cat_assoc.where(pc_cat_assoc < 0.05).stack().index.values:\n",
    "        os.makedirs(cell_type.path / '_deseq2/pc_cat_assoc', exist_ok=True)\n",
    "\n",
    "        fig, stats = plot_pc_cat_boxplot(cell_type.name, pc_merge, pc, cat, na_values)\n",
    "        fig.savefig(cell_type.path / f'_deseq2/pc_cat_assoc/{pc}_{cat}.pdf')\n",
    "        plt.close()\n",
    "        stat_results.append(stats)\n",
    "    if len(stat_results) > 0:\n",
    "        stat_results = pd.concat(stat_results)\n",
    "        stat_results.insert(0, 'cell_type', cell_type.name)\n",
    "        all_pairwise.append(stat_results)\n",
    "all_pairwise = pd.concat(all_pairwise)\n",
    "all_pairwise.to_csv(BASE / '_pc_pairwise_covariate_tests.csv')"
   ]
  },
  {
   "cell_type": "code",
   "execution_count": null,
   "id": "f300f611-3aa4-4502-a8a1-c47095648c1c",
   "metadata": {},
   "outputs": [],
   "source": []
  },
  {
   "cell_type": "code",
   "execution_count": null,
   "id": "aec105bc-5fff-4743-926d-c1e12ec6dd0b",
   "metadata": {},
   "outputs": [],
   "source": []
  },
  {
   "cell_type": "markdown",
   "id": "7bbd210b-225e-43be-b6b5-1de8a2d66f60",
   "metadata": {},
   "source": [
    "### Copy files to simpler folder structure for publishing"
   ]
  },
  {
   "cell_type": "code",
   "execution_count": 162,
   "id": "451e742d-926d-4d4e-a301-e1ca8bf6e2bf",
   "metadata": {},
   "outputs": [],
   "source": [
    "HTML = \"\"\"\n",
    "<!DOCTYPE html>\n",
    "<html>\n",
    "<head>\n",
    "  <meta name=\"viewport\" content=\"width=device-width, initial-scale=1.0\"/>\n",
    "  <meta http-equiv=\"content-type\" content=\"text/html; charset=utf8\"/>\n",
    "  <style type=\"text/css\">\n",
    "    html {\n",
    "      margin: 0; padding: 0;\n",
    "      font-size: 20px; font-family: Helvetica, Verdana, sans-serif;\n",
    "    }\n",
    "    body {margin: 0; padding: 50px 100px;}\n",
    "    a {color: #1385cb}\n",
    "    a:visited {color: #0e74bc}\n",
    "    table {border-collapse: collapse; border-top: 1px solid #ccc; border-left: 1px solid #ccc;}\n",
    "    table td, table th {padding: 2px 5px; border-bottom: 1px solid #ccc; border-right: 1px solid #ccc;}\n",
    "    table td {font-size: 14px;}\n",
    "  </style>\n",
    "</head>\n",
    "<body>\n",
    "<table>\n",
    "%s\n",
    "</table>\n",
    "</body>\n",
    "</html>\n",
    "\"\"\"\n",
    "\n",
    "HTML_CELL_TYPE = \"\"\"\n",
    "<tr>\n",
    "    <th>%s</th>\n",
    "    <td><a href=\"%s\" target=\"_blank\">PC plot</a></td>\n",
    "    <td><a href=\"%s\" target=\"_blank\">PC elbow plot</a></td>\n",
    "    <td><a href=\"%s\" target=\"_blank\">PC loadings table</a></td>\n",
    "    <td><a href=\"%s\" target=\"_blank\">PC categorical associations</a></td>\n",
    "    <td><a href=\"%s\" target=\"_blank\">PC numerical associations</a></td>\n",
    "</tr>\n",
    "\"\"\""
   ]
  },
  {
   "cell_type": "code",
   "execution_count": 163,
   "id": "712a5279-9ebd-4437-8b9d-fb7632f2a2d7",
   "metadata": {},
   "outputs": [],
   "source": [
    "def sanitize_name(name):\n",
    "    return name.replace(' ', '_').replace('*', '').replace(';', '_and').replace('/', '_')"
   ]
  },
  {
   "cell_type": "code",
   "execution_count": 164,
   "id": "335dff51-e4c0-4036-9d39-1dec8e86022a",
   "metadata": {},
   "outputs": [],
   "source": [
    "TARGET = common_data.DATA / '05_pseudobulk/10_pathogen-publish'\n",
    "table = ''\n",
    "for cell_type in data:\n",
    "    dest = TARGET / cell_type.name\n",
    "    os.makedirs(dest, exist_ok=True)\n",
    "    shutil.copy2(cell_type.path / '_deseq2/pca_elbow.pdf', dest)\n",
    "    shutil.copy2(cell_type.path / '_deseq2/pc_loadings.csv', dest / f'{sanitize_name(cell_type.name)}_pc_loadings.csv')\n",
    "    shutil.copy2(cell_type.path / '_deseq2/pc_plot.html', dest)\n",
    "    shutil.copy2(cell_type.path / '_deseq2/pc_cat_assoc.pdf', dest)\n",
    "    shutil.copy2(cell_type.path / '_deseq2/pc_corrs.pdf', dest)\n",
    "    if (cell_type.path / '_deseq2/pc_cat_assoc').exists():\n",
    "        shutil.copytree(\n",
    "            cell_type.path / '_deseq2/pc_cat_assoc', \n",
    "            dest / 'pc_cat_assoc', \n",
    "            dirs_exist_ok=True\n",
    "        )\n",
    "    cell_html = HTML_CELL_TYPE % (\n",
    "        cell_type.name,\n",
    "        cell_type.name + '/pc_plot.html',\n",
    "        cell_type.name + '/pca_elbow.pdf',\n",
    "        cell_type.name + f'/{sanitize_name(cell_type.name)}_pc_loadings.csv',\n",
    "        cell_type.name + '/pc_cat_assoc.pdf',\n",
    "        cell_type.name + '/pc_corrs.pdf',\n",
    "    )\n",
    "    table += cell_html\n",
    "html = HTML % table\n",
    "with open(TARGET / 'index.html', 'w') as out:\n",
    "    out.write(html)"
   ]
  },
  {
   "cell_type": "code",
   "execution_count": null,
   "id": "6a7e8cf0-3cf0-4ba3-a39e-0bcb351feeee",
   "metadata": {},
   "outputs": [],
   "source": []
  }
 ],
 "metadata": {
  "kernelspec": {
   "display_name": "serniczek",
   "language": "python",
   "name": "serniczek"
  },
  "language_info": {
   "codemirror_mode": {
    "name": "ipython",
    "version": 3
   },
   "file_extension": ".py",
   "mimetype": "text/x-python",
   "name": "python",
   "nbconvert_exporter": "python",
   "pygments_lexer": "ipython3",
   "version": "3.10.12"
  }
 },
 "nbformat": 4,
 "nbformat_minor": 5
}
